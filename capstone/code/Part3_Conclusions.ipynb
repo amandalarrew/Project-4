{
 "cells": [
  {
   "cell_type": "markdown",
   "metadata": {
    "id": "morsciau2TGT"
   },
   "source": [
    "# Skin Disease Prediction through Image Analysis of Diverse Skin Tones\n",
    "\n",
    "---\n",
    "# Part 3: Conclusions and Recommendations\n",
    "\n",
    "Predictive modeling can be a powerful tool to triaging or assessing risk for patients to see a dermatologist. While it is a great tool, it is important for models to be trained on images of diverse skin tones. There is a huge ethical component to AI in medicine. If a individual’s skin tone is not represented when training the model, there is inherent bias in how the model performs, and in the case of triaging patients, a greater disparity in access to medical care. It is extremely important that medical institutions implement models that improve medical equality. \n",
    "\n",
    "In general models need to be kept current and doctors should still monitor the results. Medical predictive modeling is not meant to take the place of seeing a trained professional, but can be a powerful tool to aid in the quick diagnosis and risk assessment of various diseases.\n",
    "\n",
    "This project highlights 7 Convolutional Neural Network (CNN) models with different hyperparameters tuned. The best model was model 6. In this model I used the ResNet50 pre trained keras neural network. I froze all base layers and added a dense output layer with 2 nodes and softmax activation. I used a SGD optimizer with a learning rate of 0.0001 and a momentum of 0.9. The loss function used was binary cross entropy and I monitored accuracy and recall, with the intent of optimizing recall for a medical classification problem. Data going into this model was pre-processed with a keras pre-processing ResNet50 function, and rescaled to 1/255. Train batches were augmented to mitigate overfitting. \n",
    "\n",
    "The results of this model are summarized below: \n",
    "\n",
    "\n",
    "*   Accuracy: 83%\n",
    "*   Recall: 79%\n",
    "*   Precision: 78%\n",
    "*   Malignant Recall: 71%\n",
    "*   Benign Recall: 88% \n",
    "\n",
    "There were other models that performed better on paper, but ultimately model 6 was selected because recall was being optimized, in an effort to minimize false negatives for a medical classification problem. The intention is to ensure no one gets turned away that needs to be treated. \n",
    "\n",
    "Ultimately, I think this dataset needs more data to train with and scores would be higher. Additionally there is class imbalance between malignant and benign classes leading to higher benign recall scores. I will continue to improve this project by addressing the class imbalance through thresholding. Additionally, I want to continue to hyperparameter tune my best model and also look into zooming in to the image to only include the skin condition. \n",
    "\n",
    "---\n",
    "\n",
    "\n"
   ]
  },
  {
   "cell_type": "code",
   "execution_count": null,
   "metadata": {
    "id": "n33tV7Av6quD"
   },
   "outputs": [],
   "source": []
  }
 ],
 "metadata": {
  "colab": {
   "provenance": []
  },
  "kernelspec": {
   "display_name": "Python 3 (ipykernel)",
   "language": "python",
   "name": "python3"
  },
  "language_info": {
   "codemirror_mode": {
    "name": "ipython",
    "version": 3
   },
   "file_extension": ".py",
   "mimetype": "text/x-python",
   "name": "python",
   "nbconvert_exporter": "python",
   "pygments_lexer": "ipython3",
   "version": "3.9.12"
  }
 },
 "nbformat": 4,
 "nbformat_minor": 4
}
